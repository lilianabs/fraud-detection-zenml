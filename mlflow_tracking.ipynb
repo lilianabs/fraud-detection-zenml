{
 "cells": [
  {
   "cell_type": "code",
   "execution_count": 2,
   "metadata": {},
   "outputs": [
    {
     "name": "stdout",
     "output_type": "stream",
     "text": [
      "[2022-10-19 22:15:37 -0500] [7087] [INFO] Starting gunicorn 20.1.0\n",
      "[2022-10-19 22:15:37 -0500] [7087] [INFO] Listening at: http://127.0.0.1:4997 (7087)\n",
      "[2022-10-19 22:15:37 -0500] [7087] [INFO] Using worker: sync\n",
      "[2022-10-19 22:15:37 -0500] [7088] [INFO] Booting worker with pid: 7088\n",
      "^C\n",
      "[2022-10-19 22:15:42 -0500] [7087] [INFO] Handling signal: int\n",
      "[2022-10-19 22:15:42 -0500] [7088] [INFO] Worker exiting (pid: 7088)\n"
     ]
    }
   ],
   "source": [
    "from zenml.environment import Environment\n",
    "from zenml.integrations.mlflow.mlflow_utils import get_tracking_uri\n",
    "\n",
    "\n",
    "def open_mlflow_ui(port=4997):\n",
    "\n",
    "    !mlflow ui --backend-store-uri=\"{get_tracking_uri()}\" --port={port}\n",
    "\n",
    "\n",
    "open_mlflow_ui()"
   ]
  },
  {
   "cell_type": "code",
   "execution_count": null,
   "metadata": {},
   "outputs": [],
   "source": []
  }
 ],
 "metadata": {
  "kernelspec": {
   "display_name": "Python 3.9.7 ('zenml': venv)",
   "language": "python",
   "name": "python3"
  },
  "language_info": {
   "codemirror_mode": {
    "name": "ipython",
    "version": 3
   },
   "file_extension": ".py",
   "mimetype": "text/x-python",
   "name": "python",
   "nbconvert_exporter": "python",
   "pygments_lexer": "ipython3",
   "version": "3.9.7"
  },
  "orig_nbformat": 4,
  "vscode": {
   "interpreter": {
    "hash": "4bebb6f3311f266996c46b0408ffa5000dbf1e5c26591030efea7899e010ea27"
   }
  }
 },
 "nbformat": 4,
 "nbformat_minor": 2
}

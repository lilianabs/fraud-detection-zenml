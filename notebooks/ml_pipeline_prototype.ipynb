{
 "cells": [
  {
   "cell_type": "code",
   "execution_count": 1,
   "metadata": {},
   "outputs": [],
   "source": [
    "from random import random\n",
    "import pandas as pd\n",
    "\n",
    "from sklearn.ensemble import RandomForestClassifier\n",
    "from sklearn.model_selection import train_test_split\n",
    "from sklearn.metrics import accuracy_score\n",
    "from sklearn.metrics import f1_score\n",
    "from sklearn.linear_model import LogisticRegression\n",
    "\n",
    "from sklearn.preprocessing import OneHotEncoder\n",
    "from sklearn.impute import SimpleImputer\n",
    "from category_encoders import CountEncoder\n",
    "\n",
    "from sklearn.pipeline import Pipeline\n",
    "from sklearn. compose import ColumnTransformer"
   ]
  },
  {
   "cell_type": "code",
   "execution_count": 2,
   "metadata": {},
   "outputs": [
    {
     "name": "stdout",
     "output_type": "stream",
     "text": [
      "Loading data\n"
     ]
    }
   ],
   "source": [
    "try:\n",
    "    print(\"Loading data\")\n",
    "    df = pd.read_csv(\"../data/raw/hotel_booking.csv\")\n",
    "except FileNotFoundError:\n",
    "    print(\"CSV not found\")\n",
    "    df = pd.DataFrame()"
   ]
  },
  {
   "cell_type": "code",
   "execution_count": 3,
   "metadata": {},
   "outputs": [],
   "source": [
    "data = df.copy()\n",
    "\n",
    "features_to_drop = ['name', 'email', 'phone-number', 'credit_card', 'company']\n",
    "data = data.drop(features_to_drop, axis=1)"
   ]
  },
  {
   "cell_type": "code",
   "execution_count": 4,
   "metadata": {},
   "outputs": [],
   "source": [
    "features_to_extract_date = ['reservation_status_date']\n",
    "\n",
    "def extract_date(data, col):\n",
    "    data[col] = pd.to_datetime(data[col])\n",
    "    \n",
    "    data[col + '_year'] = data[col].dt.year\n",
    "\n",
    "    data[col + '_month'] = data[col].dt.month\n",
    "    \n",
    "    data[col + '_day'] = data[col].dt.day\n",
    "    \n",
    "    data = data.drop(col, axis=1)\n",
    "    \n",
    "    return data    \n",
    "\n",
    "for feature in features_to_extract_date:\n",
    "    data = extract_date(data, feature)"
   ]
  },
  {
   "cell_type": "code",
   "execution_count": 5,
   "metadata": {},
   "outputs": [],
   "source": [
    "features_to_onehot_encode = ['hotel', 'arrival_date_month', 'meal', 'deposit_type', 'customer_type', 'reservation_status']\n",
    "\n",
    "features_to_count_encode = ['country', 'market_segment', 'distribution_channel', 'reserved_room_type', 'assigned_room_type']\n",
    "\n",
    "features_to_impute = ['children', 'agent']"
   ]
  },
  {
   "cell_type": "code",
   "execution_count": 6,
   "metadata": {},
   "outputs": [],
   "source": [
    "X = data.drop('is_canceled', axis=1)\n",
    "y = data.is_canceled"
   ]
  },
  {
   "cell_type": "code",
   "execution_count": 7,
   "metadata": {},
   "outputs": [],
   "source": [
    "X_train, X_valid, y_train, y_valid = train_test_split(X, y, \n",
    "                                                      random_state=1,\n",
    "                                                      train_size=0.8)"
   ]
  },
  {
   "cell_type": "code",
   "execution_count": 8,
   "metadata": {},
   "outputs": [],
   "source": [
    "imputer = SimpleImputer(fill_value=0)\n",
    "onehot_enc = OneHotEncoder()\n",
    "count_enc = CountEncoder()"
   ]
  },
  {
   "cell_type": "code",
   "execution_count": 9,
   "metadata": {},
   "outputs": [],
   "source": [
    "preprocessor = ColumnTransformer(\n",
    "    transformers=[('imputer', imputer, features_to_impute),\n",
    "            ('onehot', onehot_enc, features_to_onehot_encode),\n",
    "            ('count_encode', count_enc, features_to_count_encode)\n",
    "])"
   ]
  },
  {
   "cell_type": "code",
   "execution_count": 10,
   "metadata": {},
   "outputs": [],
   "source": [
    "params = {\n",
    "        \"n_estimators\": 10,\n",
    "        \"max_depth\": 5\n",
    "    }\n",
    "\n",
    "model = LogisticRegression()"
   ]
  },
  {
   "cell_type": "code",
   "execution_count": 11,
   "metadata": {},
   "outputs": [],
   "source": [
    "model_pipeline = Pipeline(\n",
    "    steps=[\n",
    "       ('preprocessor', preprocessor),\n",
    "       ('model', model)\n",
    "])"
   ]
  },
  {
   "cell_type": "code",
   "execution_count": 12,
   "metadata": {},
   "outputs": [
    {
     "name": "stdout",
     "output_type": "stream",
     "text": [
      "Accuracy: 0.6781556244241561\n",
      "F1 score: 0.550663626264398\n"
     ]
    }
   ],
   "source": [
    "model_pipeline.fit(X_train, y_train)\n",
    "\n",
    "predictions = model_pipeline.predict(X_valid)\n",
    "\n",
    "acc = accuracy_score(y_valid, predictions)\n",
    "f1_sc = f1_score(y_valid, predictions)\n",
    "    \n",
    "print(f\"Accuracy: {acc}\")\n",
    "print(f\"F1 score: {f1_sc}\")"
   ]
  },
  {
   "cell_type": "code",
   "execution_count": null,
   "metadata": {},
   "outputs": [],
   "source": []
  }
 ],
 "metadata": {
  "kernelspec": {
   "display_name": "Python 3.9.7 ('fraud-detection-modeling': venv)",
   "language": "python",
   "name": "python3"
  },
  "language_info": {
   "codemirror_mode": {
    "name": "ipython",
    "version": 3
   },
   "file_extension": ".py",
   "mimetype": "text/x-python",
   "name": "python",
   "nbconvert_exporter": "python",
   "pygments_lexer": "ipython3",
   "version": "3.9.7"
  },
  "orig_nbformat": 4,
  "vscode": {
   "interpreter": {
    "hash": "a4581d4cc65befda5b4abfc85cd3a1ea5fded6fb9c139d29686dd8b14719ee92"
   }
  }
 },
 "nbformat": 4,
 "nbformat_minor": 2
}

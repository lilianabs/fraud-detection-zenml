{
 "cells": [
  {
   "cell_type": "code",
   "execution_count": 1,
   "metadata": {},
   "outputs": [],
   "source": [
    "import pandas as pd\n",
    "import numpy as np\n",
    "\n",
    "from sklearn.model_selection import train_test_split\n",
    "from sklearn.metrics import accuracy_score\n",
    "from sklearn.metrics import f1_score\n",
    "from sklearn.pipeline import Pipeline\n",
    "from sklearn.compose import ColumnTransformer\n",
    "from sklearn.preprocessing import OneHotEncoder\n",
    "from sklearn.impute import SimpleImputer\n",
    "\n",
    "from catboost import CatBoostClassifier, Pool, metrics, cv"
   ]
  },
  {
   "cell_type": "markdown",
   "metadata": {},
   "source": [
    "## Load data"
   ]
  },
  {
   "cell_type": "code",
   "execution_count": 2,
   "metadata": {},
   "outputs": [
    {
     "name": "stdout",
     "output_type": "stream",
     "text": [
      "Loading data\n"
     ]
    }
   ],
   "source": [
    "try:\n",
    "    print(\"Loading data\")\n",
    "    df = pd.read_csv(\"../data/raw/hotel_booking.csv\")\n",
    "except FileNotFoundError:\n",
    "    print(\"CSV not found\")\n",
    "    df = pd.DataFrame()"
   ]
  },
  {
   "cell_type": "code",
   "execution_count": 3,
   "metadata": {},
   "outputs": [],
   "source": [
    "num_features = [\n",
    "    'lead_time', 'arrival_date_week_number', \"arrival_date_day_of_month\",\n",
    "    'stays_in_weekend_nights', 'stays_in_week_nights', 'adults', 'children',\n",
    "    'babies', 'is_repeated_guest', 'previous_cancellations', 'previous_bookings_not_canceled',\n",
    "    'required_car_parking_spaces', 'total_of_special_requests', 'adr'\n",
    "]\n",
    "\n",
    "cat_features = [\n",
    "    'hotel', 'agent', 'arrival_date_month', 'meal', 'market_segment',\n",
    "    'distribution_channel', 'reserved_room_type', 'deposit_type', 'customer_type'\n",
    "]"
   ]
  },
  {
   "cell_type": "markdown",
   "metadata": {},
   "source": [
    "## Clean data"
   ]
  },
  {
   "cell_type": "code",
   "execution_count": 4,
   "metadata": {},
   "outputs": [],
   "source": [
    "data = df.copy()"
   ]
  },
  {
   "cell_type": "code",
   "execution_count": 5,
   "metadata": {},
   "outputs": [
    {
     "name": "stdout",
     "output_type": "stream",
     "text": [
      "hotel object\n",
      "agent float64\n",
      "changed int64\n",
      "arrival_date_month object\n",
      "meal object\n",
      "market_segment object\n",
      "distribution_channel object\n",
      "reserved_room_type object\n",
      "deposit_type object\n",
      "customer_type object\n"
     ]
    }
   ],
   "source": [
    "for col in cat_features:\n",
    "    print(col, data[col].dtype)\n",
    "    if data[col].dtype == 'float':\n",
    "        data[col] = data[col].fillna(0).astype(int)\n",
    "        print('changed', data[col].dtype)"
   ]
  },
  {
   "cell_type": "code",
   "execution_count": 6,
   "metadata": {},
   "outputs": [],
   "source": [
    "data.fillna(-999, inplace=True)"
   ]
  },
  {
   "cell_type": "markdown",
   "metadata": {},
   "source": [
    "## Split data"
   ]
  },
  {
   "cell_type": "code",
   "execution_count": 7,
   "metadata": {},
   "outputs": [],
   "source": [
    "X = data[num_features + cat_features]\n",
    "y = data.is_canceled"
   ]
  },
  {
   "cell_type": "code",
   "execution_count": 8,
   "metadata": {},
   "outputs": [],
   "source": [
    "X_train, X_valid, y_train, y_valid = train_test_split(X, y, \n",
    "                                                    test_size=0.3, \n",
    "                                                    random_state=42)"
   ]
  },
  {
   "cell_type": "markdown",
   "metadata": {},
   "source": [
    "## Train model"
   ]
  },
  {
   "cell_type": "code",
   "execution_count": 9,
   "metadata": {},
   "outputs": [
    {
     "data": {
      "text/plain": [
       "array([14, 15, 16, 17, 18, 19, 20, 21, 22])"
      ]
     },
     "execution_count": 9,
     "metadata": {},
     "output_type": "execute_result"
    }
   ],
   "source": [
    "cat_features_indices = np.array([X_train.columns.get_loc(col) for col in cat_features])\n",
    "cat_features_indices"
   ]
  },
  {
   "cell_type": "code",
   "execution_count": 10,
   "metadata": {},
   "outputs": [],
   "source": [
    "\n",
    "model = CatBoostClassifier(\n",
    "    max_depth=3,\n",
    "    iterations=300,\n",
    "    custom_loss=[metrics.Accuracy()],\n",
    "    random_seed=42,\n",
    "    logging_level='Silent'\n",
    ")"
   ]
  },
  {
   "cell_type": "code",
   "execution_count": 12,
   "metadata": {},
   "outputs": [
    {
     "data": {
      "application/vnd.jupyter.widget-view+json": {
       "model_id": "45338f47f5ca4c47984556167615eac5",
       "version_major": 2,
       "version_minor": 0
      },
      "text/plain": [
       "MetricVisualizer(layout=Layout(align_self='stretch', height='500px'))"
      ]
     },
     "metadata": {},
     "output_type": "display_data"
    },
    {
     "name": "stdout",
     "output_type": "stream",
     "text": [
      "Learning rate set to 0.159629\n",
      "0:\tlearn: 0.6126239\ttest: 0.6121990\tbest: 0.6121990 (0)\ttotal: 120ms\tremaining: 35.9s\n",
      "1:\tlearn: 0.5645013\ttest: 0.5633498\tbest: 0.5633498 (1)\ttotal: 155ms\tremaining: 23s\n",
      "2:\tlearn: 0.5314239\ttest: 0.5302182\tbest: 0.5302182 (2)\ttotal: 177ms\tremaining: 17.6s\n",
      "3:\tlearn: 0.4987297\ttest: 0.4976279\tbest: 0.4976279 (3)\ttotal: 203ms\tremaining: 15s\n",
      "4:\tlearn: 0.4835451\ttest: 0.4823367\tbest: 0.4823367 (4)\ttotal: 227ms\tremaining: 13.4s\n",
      "5:\tlearn: 0.4733848\ttest: 0.4720620\tbest: 0.4720620 (5)\ttotal: 254ms\tremaining: 12.4s\n",
      "6:\tlearn: 0.4609952\ttest: 0.4594196\tbest: 0.4594196 (6)\ttotal: 279ms\tremaining: 11.7s\n",
      "7:\tlearn: 0.4498571\ttest: 0.4483967\tbest: 0.4483967 (7)\ttotal: 296ms\tremaining: 10.8s\n",
      "8:\tlearn: 0.4425021\ttest: 0.4409839\tbest: 0.4409839 (8)\ttotal: 312ms\tremaining: 10.1s\n",
      "9:\tlearn: 0.4368493\ttest: 0.4352210\tbest: 0.4352210 (9)\ttotal: 327ms\tremaining: 9.47s\n",
      "10:\tlearn: 0.4311638\ttest: 0.4294865\tbest: 0.4294865 (10)\ttotal: 350ms\tremaining: 9.2s\n",
      "11:\tlearn: 0.4273553\ttest: 0.4257753\tbest: 0.4257753 (11)\ttotal: 365ms\tremaining: 8.76s\n",
      "12:\tlearn: 0.4245977\ttest: 0.4229761\tbest: 0.4229761 (12)\ttotal: 388ms\tremaining: 8.55s\n",
      "13:\tlearn: 0.4188925\ttest: 0.4172743\tbest: 0.4172743 (13)\ttotal: 410ms\tremaining: 8.37s\n",
      "14:\tlearn: 0.4174177\ttest: 0.4157406\tbest: 0.4157406 (14)\ttotal: 430ms\tremaining: 8.16s\n",
      "15:\tlearn: 0.4150969\ttest: 0.4135715\tbest: 0.4135715 (15)\ttotal: 451ms\tremaining: 8s\n",
      "16:\tlearn: 0.4137573\ttest: 0.4123147\tbest: 0.4123147 (16)\ttotal: 470ms\tremaining: 7.83s\n",
      "17:\tlearn: 0.4112217\ttest: 0.4097272\tbest: 0.4097272 (17)\ttotal: 492ms\tremaining: 7.71s\n",
      "18:\tlearn: 0.4100046\ttest: 0.4085768\tbest: 0.4085768 (18)\ttotal: 516ms\tremaining: 7.63s\n",
      "19:\tlearn: 0.4088847\ttest: 0.4075146\tbest: 0.4075146 (19)\ttotal: 536ms\tremaining: 7.5s\n",
      "20:\tlearn: 0.4078078\ttest: 0.4063862\tbest: 0.4063862 (20)\ttotal: 560ms\tremaining: 7.43s\n",
      "21:\tlearn: 0.4071381\ttest: 0.4057596\tbest: 0.4057596 (21)\ttotal: 581ms\tremaining: 7.34s\n",
      "22:\tlearn: 0.4062224\ttest: 0.4048491\tbest: 0.4048491 (22)\ttotal: 608ms\tremaining: 7.33s\n",
      "23:\tlearn: 0.4052627\ttest: 0.4038226\tbest: 0.4038226 (23)\ttotal: 634ms\tremaining: 7.29s\n",
      "24:\tlearn: 0.4043617\ttest: 0.4031179\tbest: 0.4031179 (24)\ttotal: 664ms\tremaining: 7.3s\n",
      "25:\tlearn: 0.4035361\ttest: 0.4022160\tbest: 0.4022160 (25)\ttotal: 687ms\tremaining: 7.24s\n",
      "26:\tlearn: 0.4030894\ttest: 0.4017968\tbest: 0.4017968 (26)\ttotal: 714ms\tremaining: 7.22s\n",
      "27:\tlearn: 0.4023105\ttest: 0.4009141\tbest: 0.4009141 (27)\ttotal: 737ms\tremaining: 7.16s\n",
      "28:\tlearn: 0.4011241\ttest: 0.3996750\tbest: 0.3996750 (28)\ttotal: 762ms\tremaining: 7.12s\n",
      "29:\tlearn: 0.4004620\ttest: 0.3989745\tbest: 0.3989745 (29)\ttotal: 779ms\tremaining: 7.01s\n",
      "30:\tlearn: 0.3999105\ttest: 0.3986021\tbest: 0.3986021 (30)\ttotal: 807ms\tremaining: 7s\n",
      "31:\tlearn: 0.3996041\ttest: 0.3982478\tbest: 0.3982478 (31)\ttotal: 833ms\tremaining: 6.98s\n",
      "32:\tlearn: 0.3993283\ttest: 0.3979959\tbest: 0.3979959 (32)\ttotal: 859ms\tremaining: 6.95s\n",
      "33:\tlearn: 0.3987590\ttest: 0.3973886\tbest: 0.3973886 (33)\ttotal: 887ms\tremaining: 6.94s\n",
      "34:\tlearn: 0.3969543\ttest: 0.3957333\tbest: 0.3957333 (34)\ttotal: 914ms\tremaining: 6.92s\n",
      "35:\tlearn: 0.3966556\ttest: 0.3954833\tbest: 0.3954833 (35)\ttotal: 939ms\tremaining: 6.88s\n",
      "36:\tlearn: 0.3960905\ttest: 0.3948224\tbest: 0.3948224 (36)\ttotal: 963ms\tremaining: 6.85s\n",
      "37:\tlearn: 0.3957694\ttest: 0.3944884\tbest: 0.3944884 (37)\ttotal: 999ms\tremaining: 6.89s\n",
      "38:\tlearn: 0.3952136\ttest: 0.3938838\tbest: 0.3938838 (38)\ttotal: 1.02s\tremaining: 6.83s\n",
      "39:\tlearn: 0.3946627\ttest: 0.3934297\tbest: 0.3934297 (39)\ttotal: 1.04s\tremaining: 6.8s\n",
      "40:\tlearn: 0.3944387\ttest: 0.3931952\tbest: 0.3931952 (40)\ttotal: 1.06s\tremaining: 6.72s\n",
      "41:\tlearn: 0.3940332\ttest: 0.3927609\tbest: 0.3927609 (41)\ttotal: 1.09s\tremaining: 6.69s\n",
      "42:\tlearn: 0.3936332\ttest: 0.3924167\tbest: 0.3924167 (42)\ttotal: 1.12s\tremaining: 6.69s\n",
      "43:\tlearn: 0.3933617\ttest: 0.3922227\tbest: 0.3922227 (43)\ttotal: 1.14s\tremaining: 6.65s\n",
      "44:\tlearn: 0.3927764\ttest: 0.3916351\tbest: 0.3916351 (44)\ttotal: 1.16s\tremaining: 6.58s\n",
      "45:\tlearn: 0.3923232\ttest: 0.3912170\tbest: 0.3912170 (45)\ttotal: 1.18s\tremaining: 6.51s\n",
      "46:\tlearn: 0.3916151\ttest: 0.3904975\tbest: 0.3904975 (46)\ttotal: 1.2s\tremaining: 6.45s\n",
      "47:\tlearn: 0.3913516\ttest: 0.3902836\tbest: 0.3902836 (47)\ttotal: 1.22s\tremaining: 6.42s\n",
      "48:\tlearn: 0.3907683\ttest: 0.3897028\tbest: 0.3897028 (48)\ttotal: 1.25s\tremaining: 6.39s\n",
      "49:\tlearn: 0.3897135\ttest: 0.3887401\tbest: 0.3887401 (49)\ttotal: 1.27s\tremaining: 6.36s\n",
      "50:\tlearn: 0.3895848\ttest: 0.3886181\tbest: 0.3886181 (50)\ttotal: 1.3s\tremaining: 6.34s\n",
      "51:\tlearn: 0.3894558\ttest: 0.3885750\tbest: 0.3885750 (51)\ttotal: 1.36s\tremaining: 6.47s\n",
      "52:\tlearn: 0.3890609\ttest: 0.3882250\tbest: 0.3882250 (52)\ttotal: 1.41s\tremaining: 6.59s\n",
      "53:\tlearn: 0.3887085\ttest: 0.3878411\tbest: 0.3878411 (53)\ttotal: 1.48s\tremaining: 6.72s\n",
      "54:\tlearn: 0.3886084\ttest: 0.3877623\tbest: 0.3877623 (54)\ttotal: 1.5s\tremaining: 6.7s\n",
      "55:\tlearn: 0.3883428\ttest: 0.3874630\tbest: 0.3874630 (55)\ttotal: 1.53s\tremaining: 6.66s\n",
      "56:\tlearn: 0.3881822\ttest: 0.3873235\tbest: 0.3873235 (56)\ttotal: 1.55s\tremaining: 6.62s\n",
      "57:\tlearn: 0.3875601\ttest: 0.3867175\tbest: 0.3867175 (57)\ttotal: 1.58s\tremaining: 6.58s\n",
      "58:\tlearn: 0.3871972\ttest: 0.3863719\tbest: 0.3863719 (58)\ttotal: 1.6s\tremaining: 6.54s\n",
      "59:\tlearn: 0.3870039\ttest: 0.3861897\tbest: 0.3861897 (59)\ttotal: 1.63s\tremaining: 6.5s\n",
      "60:\tlearn: 0.3867783\ttest: 0.3860638\tbest: 0.3860638 (60)\ttotal: 1.65s\tremaining: 6.46s\n",
      "61:\tlearn: 0.3865991\ttest: 0.3859756\tbest: 0.3859756 (61)\ttotal: 1.67s\tremaining: 6.42s\n",
      "62:\tlearn: 0.3864178\ttest: 0.3858275\tbest: 0.3858275 (62)\ttotal: 1.7s\tremaining: 6.41s\n",
      "63:\tlearn: 0.3863272\ttest: 0.3857572\tbest: 0.3857572 (63)\ttotal: 1.73s\tremaining: 6.38s\n",
      "64:\tlearn: 0.3861832\ttest: 0.3856276\tbest: 0.3856276 (64)\ttotal: 1.75s\tremaining: 6.35s\n",
      "65:\tlearn: 0.3860335\ttest: 0.3855135\tbest: 0.3855135 (65)\ttotal: 1.78s\tremaining: 6.31s\n",
      "66:\tlearn: 0.3858491\ttest: 0.3853637\tbest: 0.3853637 (66)\ttotal: 1.8s\tremaining: 6.27s\n",
      "67:\tlearn: 0.3856687\ttest: 0.3852309\tbest: 0.3852309 (67)\ttotal: 1.82s\tremaining: 6.21s\n",
      "68:\tlearn: 0.3855100\ttest: 0.3851059\tbest: 0.3851059 (68)\ttotal: 1.84s\tremaining: 6.17s\n",
      "69:\tlearn: 0.3852804\ttest: 0.3848765\tbest: 0.3848765 (69)\ttotal: 1.87s\tremaining: 6.14s\n",
      "70:\tlearn: 0.3848531\ttest: 0.3845368\tbest: 0.3845368 (70)\ttotal: 1.89s\tremaining: 6.1s\n",
      "71:\tlearn: 0.3841260\ttest: 0.3837957\tbest: 0.3837957 (71)\ttotal: 1.91s\tremaining: 6.06s\n",
      "72:\tlearn: 0.3840168\ttest: 0.3837325\tbest: 0.3837325 (72)\ttotal: 1.94s\tremaining: 6.02s\n",
      "73:\tlearn: 0.3837500\ttest: 0.3834932\tbest: 0.3834932 (73)\ttotal: 1.96s\tremaining: 5.98s\n",
      "74:\tlearn: 0.3835278\ttest: 0.3833180\tbest: 0.3833180 (74)\ttotal: 1.98s\tremaining: 5.94s\n",
      "75:\tlearn: 0.3833491\ttest: 0.3831482\tbest: 0.3831482 (75)\ttotal: 2s\tremaining: 5.9s\n",
      "76:\tlearn: 0.3832351\ttest: 0.3830549\tbest: 0.3830549 (76)\ttotal: 2.02s\tremaining: 5.86s\n",
      "77:\tlearn: 0.3831300\ttest: 0.3829669\tbest: 0.3829669 (77)\ttotal: 2.05s\tremaining: 5.83s\n",
      "78:\tlearn: 0.3828693\ttest: 0.3827254\tbest: 0.3827254 (78)\ttotal: 2.07s\tremaining: 5.8s\n",
      "79:\tlearn: 0.3827914\ttest: 0.3826055\tbest: 0.3826055 (79)\ttotal: 2.1s\tremaining: 5.79s\n",
      "80:\tlearn: 0.3825388\ttest: 0.3824768\tbest: 0.3824768 (80)\ttotal: 2.13s\tremaining: 5.77s\n",
      "81:\tlearn: 0.3823607\ttest: 0.3823149\tbest: 0.3823149 (81)\ttotal: 2.16s\tremaining: 5.75s\n",
      "82:\tlearn: 0.3819423\ttest: 0.3818434\tbest: 0.3818434 (82)\ttotal: 2.18s\tremaining: 5.71s\n",
      "83:\tlearn: 0.3817600\ttest: 0.3816815\tbest: 0.3816815 (83)\ttotal: 2.21s\tremaining: 5.68s\n",
      "84:\tlearn: 0.3813564\ttest: 0.3812813\tbest: 0.3812813 (84)\ttotal: 2.23s\tremaining: 5.65s\n",
      "85:\tlearn: 0.3811131\ttest: 0.3810990\tbest: 0.3810990 (85)\ttotal: 2.26s\tremaining: 5.62s\n",
      "86:\tlearn: 0.3810232\ttest: 0.3810478\tbest: 0.3810478 (86)\ttotal: 2.29s\tremaining: 5.61s\n",
      "87:\tlearn: 0.3806168\ttest: 0.3806461\tbest: 0.3806461 (87)\ttotal: 2.31s\tremaining: 5.57s\n",
      "88:\tlearn: 0.3802059\ttest: 0.3801999\tbest: 0.3801999 (88)\ttotal: 2.33s\tremaining: 5.52s\n",
      "89:\tlearn: 0.3800791\ttest: 0.3801178\tbest: 0.3801178 (89)\ttotal: 2.35s\tremaining: 5.49s\n",
      "90:\tlearn: 0.3799212\ttest: 0.3799318\tbest: 0.3799318 (90)\ttotal: 2.38s\tremaining: 5.46s\n",
      "91:\tlearn: 0.3798034\ttest: 0.3798395\tbest: 0.3798395 (91)\ttotal: 2.4s\tremaining: 5.43s\n",
      "92:\tlearn: 0.3797804\ttest: 0.3798518\tbest: 0.3798395 (91)\ttotal: 2.43s\tremaining: 5.4s\n",
      "93:\tlearn: 0.3796757\ttest: 0.3798019\tbest: 0.3798019 (93)\ttotal: 2.45s\tremaining: 5.38s\n",
      "94:\tlearn: 0.3795149\ttest: 0.3796559\tbest: 0.3796559 (94)\ttotal: 2.48s\tremaining: 5.35s\n",
      "95:\tlearn: 0.3793282\ttest: 0.3794735\tbest: 0.3794735 (95)\ttotal: 2.5s\tremaining: 5.31s\n",
      "96:\tlearn: 0.3792087\ttest: 0.3793955\tbest: 0.3793955 (96)\ttotal: 2.52s\tremaining: 5.28s\n",
      "97:\tlearn: 0.3790999\ttest: 0.3793197\tbest: 0.3793197 (97)\ttotal: 2.55s\tremaining: 5.25s\n",
      "98:\tlearn: 0.3789481\ttest: 0.3791593\tbest: 0.3791593 (98)\ttotal: 2.57s\tremaining: 5.22s\n",
      "99:\tlearn: 0.3789098\ttest: 0.3791054\tbest: 0.3791054 (99)\ttotal: 2.59s\tremaining: 5.19s\n",
      "100:\tlearn: 0.3787338\ttest: 0.3788787\tbest: 0.3788787 (100)\ttotal: 2.61s\tremaining: 5.15s\n",
      "101:\tlearn: 0.3784868\ttest: 0.3786410\tbest: 0.3786410 (101)\ttotal: 2.63s\tremaining: 5.12s\n",
      "102:\tlearn: 0.3782942\ttest: 0.3784621\tbest: 0.3784621 (102)\ttotal: 2.66s\tremaining: 5.08s\n",
      "103:\tlearn: 0.3782046\ttest: 0.3784074\tbest: 0.3784074 (103)\ttotal: 2.68s\tremaining: 5.04s\n",
      "104:\tlearn: 0.3779481\ttest: 0.3782492\tbest: 0.3782492 (104)\ttotal: 2.7s\tremaining: 5.02s\n",
      "105:\tlearn: 0.3777595\ttest: 0.3780648\tbest: 0.3780648 (105)\ttotal: 2.73s\tremaining: 4.99s\n",
      "106:\tlearn: 0.3776223\ttest: 0.3779394\tbest: 0.3779394 (106)\ttotal: 2.75s\tremaining: 4.96s\n",
      "107:\tlearn: 0.3773075\ttest: 0.3775908\tbest: 0.3775908 (107)\ttotal: 2.77s\tremaining: 4.92s\n",
      "108:\tlearn: 0.3771751\ttest: 0.3775054\tbest: 0.3775054 (108)\ttotal: 2.8s\tremaining: 4.9s\n",
      "109:\tlearn: 0.3769764\ttest: 0.3773371\tbest: 0.3773371 (109)\ttotal: 2.82s\tremaining: 4.87s\n",
      "110:\tlearn: 0.3769163\ttest: 0.3772839\tbest: 0.3772839 (110)\ttotal: 2.84s\tremaining: 4.84s\n",
      "111:\tlearn: 0.3767878\ttest: 0.3771831\tbest: 0.3771831 (111)\ttotal: 2.87s\tremaining: 4.82s\n",
      "112:\tlearn: 0.3766476\ttest: 0.3770766\tbest: 0.3770766 (112)\ttotal: 2.89s\tremaining: 4.78s\n",
      "113:\tlearn: 0.3765426\ttest: 0.3769365\tbest: 0.3769365 (113)\ttotal: 2.92s\tremaining: 4.76s\n",
      "114:\tlearn: 0.3763971\ttest: 0.3768491\tbest: 0.3768491 (114)\ttotal: 2.94s\tremaining: 4.74s\n",
      "115:\tlearn: 0.3763732\ttest: 0.3768322\tbest: 0.3768322 (115)\ttotal: 2.98s\tremaining: 4.72s\n",
      "116:\tlearn: 0.3762973\ttest: 0.3768072\tbest: 0.3768072 (116)\ttotal: 3.01s\tremaining: 4.71s\n",
      "117:\tlearn: 0.3760301\ttest: 0.3765152\tbest: 0.3765152 (117)\ttotal: 3.04s\tremaining: 4.68s\n",
      "118:\tlearn: 0.3759066\ttest: 0.3764207\tbest: 0.3764207 (118)\ttotal: 3.06s\tremaining: 4.66s\n",
      "119:\tlearn: 0.3757894\ttest: 0.3762969\tbest: 0.3762969 (119)\ttotal: 3.08s\tremaining: 4.62s\n",
      "120:\tlearn: 0.3757732\ttest: 0.3763016\tbest: 0.3762969 (119)\ttotal: 3.11s\tremaining: 4.6s\n",
      "121:\tlearn: 0.3756195\ttest: 0.3762227\tbest: 0.3762227 (121)\ttotal: 3.13s\tremaining: 4.57s\n",
      "122:\tlearn: 0.3755522\ttest: 0.3761869\tbest: 0.3761869 (122)\ttotal: 3.16s\tremaining: 4.55s\n",
      "123:\tlearn: 0.3753987\ttest: 0.3760846\tbest: 0.3760846 (123)\ttotal: 3.19s\tremaining: 4.53s\n",
      "124:\tlearn: 0.3750535\ttest: 0.3757573\tbest: 0.3757573 (124)\ttotal: 3.21s\tremaining: 4.5s\n",
      "125:\tlearn: 0.3750147\ttest: 0.3757549\tbest: 0.3757549 (125)\ttotal: 3.25s\tremaining: 4.48s\n",
      "126:\tlearn: 0.3749134\ttest: 0.3756391\tbest: 0.3756391 (126)\ttotal: 3.28s\tremaining: 4.46s\n",
      "127:\tlearn: 0.3748022\ttest: 0.3755035\tbest: 0.3755035 (127)\ttotal: 3.3s\tremaining: 4.44s\n",
      "128:\tlearn: 0.3746088\ttest: 0.3753474\tbest: 0.3753474 (128)\ttotal: 3.32s\tremaining: 4.4s\n",
      "129:\tlearn: 0.3744253\ttest: 0.3751888\tbest: 0.3751888 (129)\ttotal: 3.34s\tremaining: 4.37s\n",
      "130:\tlearn: 0.3742850\ttest: 0.3750889\tbest: 0.3750889 (130)\ttotal: 3.36s\tremaining: 4.34s\n",
      "131:\tlearn: 0.3741160\ttest: 0.3749241\tbest: 0.3749241 (131)\ttotal: 3.38s\tremaining: 4.3s\n",
      "132:\tlearn: 0.3740200\ttest: 0.3748346\tbest: 0.3748346 (132)\ttotal: 3.4s\tremaining: 4.27s\n",
      "133:\tlearn: 0.3738437\ttest: 0.3746751\tbest: 0.3746751 (133)\ttotal: 3.42s\tremaining: 4.24s\n",
      "134:\tlearn: 0.3737328\ttest: 0.3745856\tbest: 0.3745856 (134)\ttotal: 3.44s\tremaining: 4.21s\n",
      "135:\tlearn: 0.3736820\ttest: 0.3745156\tbest: 0.3745156 (135)\ttotal: 3.46s\tremaining: 4.18s\n",
      "136:\tlearn: 0.3736340\ttest: 0.3744922\tbest: 0.3744922 (136)\ttotal: 3.49s\tremaining: 4.15s\n",
      "137:\tlearn: 0.3735429\ttest: 0.3744575\tbest: 0.3744575 (137)\ttotal: 3.51s\tremaining: 4.12s\n",
      "138:\tlearn: 0.3734426\ttest: 0.3744275\tbest: 0.3744275 (138)\ttotal: 3.53s\tremaining: 4.09s\n",
      "139:\tlearn: 0.3733327\ttest: 0.3743606\tbest: 0.3743606 (139)\ttotal: 3.55s\tremaining: 4.06s\n",
      "140:\tlearn: 0.3731175\ttest: 0.3742000\tbest: 0.3742000 (140)\ttotal: 3.58s\tremaining: 4.03s\n",
      "141:\tlearn: 0.3730350\ttest: 0.3741487\tbest: 0.3741487 (141)\ttotal: 3.6s\tremaining: 4.01s\n",
      "142:\tlearn: 0.3728587\ttest: 0.3739943\tbest: 0.3739943 (142)\ttotal: 3.63s\tremaining: 3.98s\n",
      "143:\tlearn: 0.3727815\ttest: 0.3739366\tbest: 0.3739366 (143)\ttotal: 3.65s\tremaining: 3.96s\n",
      "144:\tlearn: 0.3726625\ttest: 0.3738734\tbest: 0.3738734 (144)\ttotal: 3.67s\tremaining: 3.93s\n",
      "145:\tlearn: 0.3726309\ttest: 0.3738829\tbest: 0.3738734 (144)\ttotal: 3.7s\tremaining: 3.9s\n",
      "146:\tlearn: 0.3725471\ttest: 0.3738404\tbest: 0.3738404 (146)\ttotal: 3.72s\tremaining: 3.88s\n",
      "147:\tlearn: 0.3725174\ttest: 0.3738224\tbest: 0.3738224 (147)\ttotal: 3.75s\tremaining: 3.85s\n",
      "148:\tlearn: 0.3724478\ttest: 0.3737845\tbest: 0.3737845 (148)\ttotal: 3.77s\tremaining: 3.82s\n",
      "149:\tlearn: 0.3723560\ttest: 0.3736665\tbest: 0.3736665 (149)\ttotal: 3.8s\tremaining: 3.8s\n",
      "150:\tlearn: 0.3722911\ttest: 0.3736599\tbest: 0.3736599 (150)\ttotal: 3.83s\tremaining: 3.78s\n",
      "151:\tlearn: 0.3721177\ttest: 0.3735126\tbest: 0.3735126 (151)\ttotal: 3.86s\tremaining: 3.75s\n",
      "152:\tlearn: 0.3720827\ttest: 0.3734619\tbest: 0.3734619 (152)\ttotal: 3.88s\tremaining: 3.73s\n",
      "153:\tlearn: 0.3720388\ttest: 0.3734405\tbest: 0.3734405 (153)\ttotal: 3.9s\tremaining: 3.7s\n",
      "154:\tlearn: 0.3719841\ttest: 0.3733758\tbest: 0.3733758 (154)\ttotal: 3.93s\tremaining: 3.68s\n",
      "155:\tlearn: 0.3718285\ttest: 0.3731974\tbest: 0.3731974 (155)\ttotal: 3.95s\tremaining: 3.65s\n",
      "156:\tlearn: 0.3717874\ttest: 0.3731766\tbest: 0.3731766 (156)\ttotal: 3.98s\tremaining: 3.63s\n",
      "157:\tlearn: 0.3715821\ttest: 0.3730230\tbest: 0.3730230 (157)\ttotal: 4.01s\tremaining: 3.6s\n",
      "158:\tlearn: 0.3715195\ttest: 0.3729783\tbest: 0.3729783 (158)\ttotal: 4.04s\tremaining: 3.58s\n",
      "159:\tlearn: 0.3714309\ttest: 0.3729069\tbest: 0.3729069 (159)\ttotal: 4.06s\tremaining: 3.55s\n",
      "160:\tlearn: 0.3712859\ttest: 0.3727885\tbest: 0.3727885 (160)\ttotal: 4.09s\tremaining: 3.53s\n",
      "161:\tlearn: 0.3712513\ttest: 0.3727671\tbest: 0.3727671 (161)\ttotal: 4.12s\tremaining: 3.5s\n",
      "162:\tlearn: 0.3711836\ttest: 0.3727159\tbest: 0.3727159 (162)\ttotal: 4.14s\tremaining: 3.48s\n",
      "163:\tlearn: 0.3710392\ttest: 0.3725597\tbest: 0.3725597 (163)\ttotal: 4.16s\tremaining: 3.45s\n",
      "164:\tlearn: 0.3710018\ttest: 0.3725439\tbest: 0.3725439 (164)\ttotal: 4.18s\tremaining: 3.42s\n",
      "165:\tlearn: 0.3708651\ttest: 0.3724285\tbest: 0.3724285 (165)\ttotal: 4.2s\tremaining: 3.39s\n",
      "166:\tlearn: 0.3708521\ttest: 0.3724289\tbest: 0.3724285 (165)\ttotal: 4.22s\tremaining: 3.36s\n",
      "167:\tlearn: 0.3708454\ttest: 0.3724288\tbest: 0.3724285 (165)\ttotal: 4.24s\tremaining: 3.33s\n",
      "168:\tlearn: 0.3707630\ttest: 0.3723234\tbest: 0.3723234 (168)\ttotal: 4.26s\tremaining: 3.31s\n",
      "169:\tlearn: 0.3707163\ttest: 0.3723151\tbest: 0.3723151 (169)\ttotal: 4.28s\tremaining: 3.28s\n",
      "170:\tlearn: 0.3706878\ttest: 0.3723067\tbest: 0.3723067 (170)\ttotal: 4.31s\tremaining: 3.25s\n",
      "171:\tlearn: 0.3706861\ttest: 0.3723065\tbest: 0.3723065 (171)\ttotal: 4.34s\tremaining: 3.23s\n",
      "172:\tlearn: 0.3706408\ttest: 0.3723185\tbest: 0.3723065 (171)\ttotal: 4.37s\tremaining: 3.21s\n",
      "173:\tlearn: 0.3703159\ttest: 0.3719597\tbest: 0.3719597 (173)\ttotal: 4.4s\tremaining: 3.18s\n",
      "174:\tlearn: 0.3702003\ttest: 0.3718517\tbest: 0.3718517 (174)\ttotal: 4.43s\tremaining: 3.16s\n",
      "175:\tlearn: 0.3699834\ttest: 0.3716738\tbest: 0.3716738 (175)\ttotal: 4.46s\tremaining: 3.14s\n",
      "176:\tlearn: 0.3697843\ttest: 0.3714863\tbest: 0.3714863 (176)\ttotal: 4.49s\tremaining: 3.12s\n",
      "177:\tlearn: 0.3696763\ttest: 0.3714107\tbest: 0.3714107 (177)\ttotal: 4.51s\tremaining: 3.09s\n",
      "178:\tlearn: 0.3695487\ttest: 0.3712840\tbest: 0.3712840 (178)\ttotal: 4.53s\tremaining: 3.06s\n",
      "179:\tlearn: 0.3694971\ttest: 0.3712525\tbest: 0.3712525 (179)\ttotal: 4.56s\tremaining: 3.04s\n",
      "180:\tlearn: 0.3694916\ttest: 0.3712484\tbest: 0.3712484 (180)\ttotal: 4.58s\tremaining: 3.01s\n",
      "181:\tlearn: 0.3693493\ttest: 0.3710795\tbest: 0.3710795 (181)\ttotal: 4.61s\tremaining: 2.99s\n",
      "182:\tlearn: 0.3692377\ttest: 0.3709666\tbest: 0.3709666 (182)\ttotal: 4.63s\tremaining: 2.96s\n",
      "183:\tlearn: 0.3691404\ttest: 0.3709090\tbest: 0.3709090 (183)\ttotal: 4.65s\tremaining: 2.93s\n",
      "184:\tlearn: 0.3691310\ttest: 0.3709080\tbest: 0.3709080 (184)\ttotal: 4.68s\tremaining: 2.91s\n",
      "185:\tlearn: 0.3691245\ttest: 0.3709013\tbest: 0.3709013 (185)\ttotal: 4.71s\tremaining: 2.88s\n",
      "186:\tlearn: 0.3690236\ttest: 0.3708302\tbest: 0.3708302 (186)\ttotal: 4.73s\tremaining: 2.86s\n",
      "187:\tlearn: 0.3688926\ttest: 0.3707084\tbest: 0.3707084 (187)\ttotal: 4.75s\tremaining: 2.83s\n",
      "188:\tlearn: 0.3688445\ttest: 0.3706930\tbest: 0.3706930 (188)\ttotal: 4.78s\tremaining: 2.81s\n",
      "189:\tlearn: 0.3688029\ttest: 0.3706663\tbest: 0.3706663 (189)\ttotal: 4.8s\tremaining: 2.78s\n",
      "190:\tlearn: 0.3686370\ttest: 0.3704964\tbest: 0.3704964 (190)\ttotal: 4.83s\tremaining: 2.75s\n",
      "191:\tlearn: 0.3686134\ttest: 0.3704648\tbest: 0.3704648 (191)\ttotal: 4.85s\tremaining: 2.73s\n",
      "192:\tlearn: 0.3685650\ttest: 0.3704236\tbest: 0.3704236 (192)\ttotal: 4.87s\tremaining: 2.7s\n",
      "193:\tlearn: 0.3685087\ttest: 0.3703825\tbest: 0.3703825 (193)\ttotal: 4.89s\tremaining: 2.67s\n",
      "194:\tlearn: 0.3684221\ttest: 0.3702979\tbest: 0.3702979 (194)\ttotal: 4.92s\tremaining: 2.65s\n",
      "195:\tlearn: 0.3682976\ttest: 0.3701442\tbest: 0.3701442 (195)\ttotal: 4.94s\tremaining: 2.62s\n",
      "196:\tlearn: 0.3681947\ttest: 0.3700217\tbest: 0.3700217 (196)\ttotal: 4.97s\tremaining: 2.6s\n",
      "197:\tlearn: 0.3681430\ttest: 0.3699435\tbest: 0.3699435 (197)\ttotal: 4.99s\tremaining: 2.57s\n",
      "198:\tlearn: 0.3681119\ttest: 0.3699342\tbest: 0.3699342 (198)\ttotal: 5.01s\tremaining: 2.54s\n",
      "199:\tlearn: 0.3680384\ttest: 0.3698652\tbest: 0.3698652 (199)\ttotal: 5.03s\tremaining: 2.52s\n",
      "200:\tlearn: 0.3679448\ttest: 0.3698005\tbest: 0.3698005 (200)\ttotal: 5.05s\tremaining: 2.49s\n",
      "201:\tlearn: 0.3678100\ttest: 0.3696717\tbest: 0.3696717 (201)\ttotal: 5.08s\tremaining: 2.46s\n",
      "202:\tlearn: 0.3677315\ttest: 0.3695944\tbest: 0.3695944 (202)\ttotal: 5.1s\tremaining: 2.44s\n",
      "203:\tlearn: 0.3676984\ttest: 0.3695361\tbest: 0.3695361 (203)\ttotal: 5.13s\tremaining: 2.41s\n",
      "204:\tlearn: 0.3676268\ttest: 0.3694535\tbest: 0.3694535 (204)\ttotal: 5.15s\tremaining: 2.39s\n",
      "205:\tlearn: 0.3676039\ttest: 0.3694609\tbest: 0.3694535 (204)\ttotal: 5.18s\tremaining: 2.36s\n",
      "206:\tlearn: 0.3675972\ttest: 0.3694597\tbest: 0.3694535 (204)\ttotal: 5.2s\tremaining: 2.34s\n",
      "207:\tlearn: 0.3675797\ttest: 0.3694392\tbest: 0.3694392 (207)\ttotal: 5.22s\tremaining: 2.31s\n",
      "208:\tlearn: 0.3674629\ttest: 0.3692591\tbest: 0.3692591 (208)\ttotal: 5.25s\tremaining: 2.28s\n",
      "209:\tlearn: 0.3673560\ttest: 0.3691646\tbest: 0.3691646 (209)\ttotal: 5.27s\tremaining: 2.26s\n",
      "210:\tlearn: 0.3673283\ttest: 0.3691444\tbest: 0.3691444 (210)\ttotal: 5.29s\tremaining: 2.23s\n",
      "211:\tlearn: 0.3673055\ttest: 0.3691050\tbest: 0.3691050 (211)\ttotal: 5.31s\tremaining: 2.21s\n",
      "212:\tlearn: 0.3672147\ttest: 0.3690308\tbest: 0.3690308 (212)\ttotal: 5.33s\tremaining: 2.18s\n",
      "213:\tlearn: 0.3671662\ttest: 0.3689910\tbest: 0.3689910 (213)\ttotal: 5.36s\tremaining: 2.15s\n",
      "214:\tlearn: 0.3671002\ttest: 0.3689570\tbest: 0.3689570 (214)\ttotal: 5.38s\tremaining: 2.13s\n",
      "215:\tlearn: 0.3670423\ttest: 0.3689241\tbest: 0.3689241 (215)\ttotal: 5.41s\tremaining: 2.1s\n",
      "216:\tlearn: 0.3669597\ttest: 0.3688694\tbest: 0.3688694 (216)\ttotal: 5.43s\tremaining: 2.08s\n",
      "217:\tlearn: 0.3668593\ttest: 0.3687609\tbest: 0.3687609 (217)\ttotal: 5.45s\tremaining: 2.05s\n",
      "218:\tlearn: 0.3668158\ttest: 0.3686945\tbest: 0.3686945 (218)\ttotal: 5.48s\tremaining: 2.02s\n",
      "219:\tlearn: 0.3668029\ttest: 0.3686935\tbest: 0.3686935 (219)\ttotal: 5.5s\tremaining: 2s\n",
      "220:\tlearn: 0.3667048\ttest: 0.3686444\tbest: 0.3686444 (220)\ttotal: 5.54s\tremaining: 1.98s\n",
      "221:\tlearn: 0.3665901\ttest: 0.3685617\tbest: 0.3685617 (221)\ttotal: 5.56s\tremaining: 1.95s\n",
      "222:\tlearn: 0.3664983\ttest: 0.3684210\tbest: 0.3684210 (222)\ttotal: 5.58s\tremaining: 1.93s\n",
      "223:\tlearn: 0.3663434\ttest: 0.3682853\tbest: 0.3682853 (223)\ttotal: 5.61s\tremaining: 1.9s\n",
      "224:\tlearn: 0.3662368\ttest: 0.3682170\tbest: 0.3682170 (224)\ttotal: 5.63s\tremaining: 1.88s\n",
      "225:\tlearn: 0.3661300\ttest: 0.3681316\tbest: 0.3681316 (225)\ttotal: 5.65s\tremaining: 1.85s\n",
      "226:\tlearn: 0.3661159\ttest: 0.3681106\tbest: 0.3681106 (226)\ttotal: 5.67s\tremaining: 1.82s\n",
      "227:\tlearn: 0.3661056\ttest: 0.3681103\tbest: 0.3681103 (227)\ttotal: 5.7s\tremaining: 1.8s\n",
      "228:\tlearn: 0.3660593\ttest: 0.3680892\tbest: 0.3680892 (228)\ttotal: 5.72s\tremaining: 1.77s\n",
      "229:\tlearn: 0.3659140\ttest: 0.3680002\tbest: 0.3680002 (229)\ttotal: 5.74s\tremaining: 1.75s\n",
      "230:\tlearn: 0.3658573\ttest: 0.3679561\tbest: 0.3679561 (230)\ttotal: 5.76s\tremaining: 1.72s\n",
      "231:\tlearn: 0.3657798\ttest: 0.3679126\tbest: 0.3679126 (231)\ttotal: 5.78s\tremaining: 1.69s\n",
      "232:\tlearn: 0.3655883\ttest: 0.3677855\tbest: 0.3677855 (232)\ttotal: 5.81s\tremaining: 1.67s\n",
      "233:\tlearn: 0.3655082\ttest: 0.3677431\tbest: 0.3677431 (233)\ttotal: 5.83s\tremaining: 1.64s\n",
      "234:\tlearn: 0.3654570\ttest: 0.3677038\tbest: 0.3677038 (234)\ttotal: 5.86s\tremaining: 1.62s\n",
      "235:\tlearn: 0.3654324\ttest: 0.3676739\tbest: 0.3676739 (235)\ttotal: 5.88s\tremaining: 1.59s\n",
      "236:\tlearn: 0.3654276\ttest: 0.3676749\tbest: 0.3676739 (235)\ttotal: 5.91s\tremaining: 1.57s\n",
      "237:\tlearn: 0.3654172\ttest: 0.3676702\tbest: 0.3676702 (237)\ttotal: 5.93s\tremaining: 1.54s\n",
      "238:\tlearn: 0.3653519\ttest: 0.3676225\tbest: 0.3676225 (238)\ttotal: 5.96s\tremaining: 1.52s\n",
      "239:\tlearn: 0.3653115\ttest: 0.3675596\tbest: 0.3675596 (239)\ttotal: 5.99s\tremaining: 1.5s\n",
      "240:\tlearn: 0.3652835\ttest: 0.3675557\tbest: 0.3675557 (240)\ttotal: 6.01s\tremaining: 1.47s\n",
      "241:\tlearn: 0.3652810\ttest: 0.3675549\tbest: 0.3675549 (241)\ttotal: 6.04s\tremaining: 1.45s\n",
      "242:\tlearn: 0.3652367\ttest: 0.3675021\tbest: 0.3675021 (242)\ttotal: 6.06s\tremaining: 1.42s\n",
      "243:\tlearn: 0.3651610\ttest: 0.3674190\tbest: 0.3674190 (243)\ttotal: 6.08s\tremaining: 1.4s\n",
      "244:\tlearn: 0.3651342\ttest: 0.3674152\tbest: 0.3674152 (244)\ttotal: 6.11s\tremaining: 1.37s\n",
      "245:\tlearn: 0.3650472\ttest: 0.3673019\tbest: 0.3673019 (245)\ttotal: 6.14s\tremaining: 1.35s\n",
      "246:\tlearn: 0.3650181\ttest: 0.3672910\tbest: 0.3672910 (246)\ttotal: 6.16s\tremaining: 1.32s\n",
      "247:\tlearn: 0.3649935\ttest: 0.3672731\tbest: 0.3672731 (247)\ttotal: 6.19s\tremaining: 1.3s\n",
      "248:\tlearn: 0.3648194\ttest: 0.3671327\tbest: 0.3671327 (248)\ttotal: 6.21s\tremaining: 1.27s\n",
      "249:\tlearn: 0.3647933\ttest: 0.3671262\tbest: 0.3671262 (249)\ttotal: 6.24s\tremaining: 1.25s\n",
      "250:\tlearn: 0.3647631\ttest: 0.3670698\tbest: 0.3670698 (250)\ttotal: 6.26s\tremaining: 1.22s\n",
      "251:\tlearn: 0.3646944\ttest: 0.3670329\tbest: 0.3670329 (251)\ttotal: 6.29s\tremaining: 1.2s\n",
      "252:\tlearn: 0.3646245\ttest: 0.3669435\tbest: 0.3669435 (252)\ttotal: 6.31s\tremaining: 1.17s\n",
      "253:\tlearn: 0.3645628\ttest: 0.3668743\tbest: 0.3668743 (253)\ttotal: 6.33s\tremaining: 1.15s\n",
      "254:\tlearn: 0.3644451\ttest: 0.3667891\tbest: 0.3667891 (254)\ttotal: 6.35s\tremaining: 1.12s\n",
      "255:\tlearn: 0.3643822\ttest: 0.3667562\tbest: 0.3667562 (255)\ttotal: 6.38s\tremaining: 1.1s\n",
      "256:\tlearn: 0.3643474\ttest: 0.3667493\tbest: 0.3667493 (256)\ttotal: 6.41s\tremaining: 1.07s\n",
      "257:\tlearn: 0.3642955\ttest: 0.3667069\tbest: 0.3667069 (257)\ttotal: 6.43s\tremaining: 1.05s\n",
      "258:\tlearn: 0.3641602\ttest: 0.3665654\tbest: 0.3665654 (258)\ttotal: 6.45s\tremaining: 1.02s\n",
      "259:\tlearn: 0.3640374\ttest: 0.3664522\tbest: 0.3664522 (259)\ttotal: 6.47s\tremaining: 995ms\n",
      "260:\tlearn: 0.3639710\ttest: 0.3663792\tbest: 0.3663792 (260)\ttotal: 6.49s\tremaining: 970ms\n",
      "261:\tlearn: 0.3638909\ttest: 0.3663099\tbest: 0.3663099 (261)\ttotal: 6.51s\tremaining: 945ms\n",
      "262:\tlearn: 0.3638371\ttest: 0.3662812\tbest: 0.3662812 (262)\ttotal: 6.53s\tremaining: 919ms\n",
      "263:\tlearn: 0.3637956\ttest: 0.3662485\tbest: 0.3662485 (263)\ttotal: 6.56s\tremaining: 895ms\n",
      "264:\tlearn: 0.3637448\ttest: 0.3662261\tbest: 0.3662261 (264)\ttotal: 6.58s\tremaining: 869ms\n",
      "265:\tlearn: 0.3637027\ttest: 0.3662009\tbest: 0.3662009 (265)\ttotal: 6.6s\tremaining: 844ms\n",
      "266:\tlearn: 0.3636327\ttest: 0.3661709\tbest: 0.3661709 (266)\ttotal: 6.63s\tremaining: 819ms\n",
      "267:\tlearn: 0.3635325\ttest: 0.3660734\tbest: 0.3660734 (267)\ttotal: 6.66s\tremaining: 795ms\n",
      "268:\tlearn: 0.3635113\ttest: 0.3660786\tbest: 0.3660734 (267)\ttotal: 6.68s\tremaining: 770ms\n",
      "269:\tlearn: 0.3633843\ttest: 0.3659287\tbest: 0.3659287 (269)\ttotal: 6.71s\tremaining: 745ms\n",
      "270:\tlearn: 0.3633693\ttest: 0.3659303\tbest: 0.3659287 (269)\ttotal: 6.73s\tremaining: 720ms\n",
      "271:\tlearn: 0.3633086\ttest: 0.3658872\tbest: 0.3658872 (271)\ttotal: 6.75s\tremaining: 695ms\n",
      "272:\tlearn: 0.3632426\ttest: 0.3658452\tbest: 0.3658452 (272)\ttotal: 6.78s\tremaining: 671ms\n",
      "273:\tlearn: 0.3631230\ttest: 0.3657318\tbest: 0.3657318 (273)\ttotal: 6.81s\tremaining: 646ms\n",
      "274:\tlearn: 0.3630680\ttest: 0.3656836\tbest: 0.3656836 (274)\ttotal: 6.83s\tremaining: 621ms\n",
      "275:\tlearn: 0.3630258\ttest: 0.3656478\tbest: 0.3656478 (275)\ttotal: 6.86s\tremaining: 596ms\n",
      "276:\tlearn: 0.3630180\ttest: 0.3656435\tbest: 0.3656435 (276)\ttotal: 6.88s\tremaining: 571ms\n",
      "277:\tlearn: 0.3629826\ttest: 0.3656305\tbest: 0.3656305 (277)\ttotal: 6.91s\tremaining: 547ms\n",
      "278:\tlearn: 0.3629578\ttest: 0.3656054\tbest: 0.3656054 (278)\ttotal: 6.93s\tremaining: 522ms\n",
      "279:\tlearn: 0.3628890\ttest: 0.3655220\tbest: 0.3655220 (279)\ttotal: 6.96s\tremaining: 497ms\n",
      "280:\tlearn: 0.3628570\ttest: 0.3654764\tbest: 0.3654764 (280)\ttotal: 6.99s\tremaining: 473ms\n",
      "281:\tlearn: 0.3628039\ttest: 0.3654096\tbest: 0.3654096 (281)\ttotal: 7.01s\tremaining: 448ms\n",
      "282:\tlearn: 0.3627586\ttest: 0.3653923\tbest: 0.3653923 (282)\ttotal: 7.04s\tremaining: 423ms\n",
      "283:\tlearn: 0.3626877\ttest: 0.3653882\tbest: 0.3653882 (283)\ttotal: 7.06s\tremaining: 398ms\n",
      "284:\tlearn: 0.3625769\ttest: 0.3653317\tbest: 0.3653317 (284)\ttotal: 7.08s\tremaining: 373ms\n",
      "285:\tlearn: 0.3625054\ttest: 0.3652482\tbest: 0.3652482 (285)\ttotal: 7.11s\tremaining: 348ms\n",
      "286:\tlearn: 0.3624037\ttest: 0.3651425\tbest: 0.3651425 (286)\ttotal: 7.13s\tremaining: 323ms\n",
      "287:\tlearn: 0.3622943\ttest: 0.3650926\tbest: 0.3650926 (287)\ttotal: 7.15s\tremaining: 298ms\n",
      "288:\tlearn: 0.3622393\ttest: 0.3650488\tbest: 0.3650488 (288)\ttotal: 7.18s\tremaining: 273ms\n",
      "289:\tlearn: 0.3621564\ttest: 0.3649753\tbest: 0.3649753 (289)\ttotal: 7.2s\tremaining: 248ms\n",
      "290:\tlearn: 0.3621002\ttest: 0.3649250\tbest: 0.3649250 (290)\ttotal: 7.22s\tremaining: 223ms\n",
      "291:\tlearn: 0.3620482\ttest: 0.3648594\tbest: 0.3648594 (291)\ttotal: 7.24s\tremaining: 198ms\n",
      "292:\tlearn: 0.3619927\ttest: 0.3648676\tbest: 0.3648594 (291)\ttotal: 7.26s\tremaining: 174ms\n",
      "293:\tlearn: 0.3619890\ttest: 0.3648681\tbest: 0.3648594 (291)\ttotal: 7.29s\tremaining: 149ms\n",
      "294:\tlearn: 0.3618011\ttest: 0.3646278\tbest: 0.3646278 (294)\ttotal: 7.32s\tremaining: 124ms\n",
      "295:\tlearn: 0.3617973\ttest: 0.3646278\tbest: 0.3646278 (295)\ttotal: 7.34s\tremaining: 99.2ms\n",
      "296:\tlearn: 0.3617187\ttest: 0.3645598\tbest: 0.3645598 (296)\ttotal: 7.36s\tremaining: 74.3ms\n",
      "297:\tlearn: 0.3615396\ttest: 0.3644487\tbest: 0.3644487 (297)\ttotal: 7.38s\tremaining: 49.6ms\n",
      "298:\tlearn: 0.3614950\ttest: 0.3644184\tbest: 0.3644184 (298)\ttotal: 7.41s\tremaining: 24.8ms\n",
      "299:\tlearn: 0.3614573\ttest: 0.3643758\tbest: 0.3643758 (299)\ttotal: 7.43s\tremaining: 0us\n",
      "\n",
      "bestTest = 0.3643758469\n",
      "bestIteration = 299\n",
      "\n"
     ]
    },
    {
     "data": {
      "text/plain": [
       "<catboost.core.CatBoostClassifier at 0x7f7949d19ac0>"
      ]
     },
     "execution_count": 12,
     "metadata": {},
     "output_type": "execute_result"
    }
   ],
   "source": [
    "model.fit(\n",
    "    X_train, y_train,\n",
    "    cat_features=cat_features_indices,\n",
    "    eval_set=(X_valid, y_valid),\n",
    "    logging_level='Verbose', \n",
    "    plot=True\n",
    ")"
   ]
  },
  {
   "cell_type": "markdown",
   "metadata": {},
   "source": [
    "## Evaludate model"
   ]
  },
  {
   "cell_type": "code",
   "execution_count": 13,
   "metadata": {},
   "outputs": [
    {
     "name": "stdout",
     "output_type": "stream",
     "text": [
      "Accuracy: 0.8333193734818661\n",
      "F1 score: 0.7481225213062189\n"
     ]
    }
   ],
   "source": [
    "predictions = model.predict(X_valid)\n",
    "\n",
    "acc = accuracy_score(y_valid, predictions)\n",
    "f1_sc = f1_score(y_valid, predictions)\n",
    "    \n",
    "print(f\"Accuracy: {acc}\")\n",
    "print(f\"F1 score: {f1_sc}\")"
   ]
  },
  {
   "cell_type": "code",
   "execution_count": null,
   "metadata": {},
   "outputs": [],
   "source": []
  }
 ],
 "metadata": {
  "kernelspec": {
   "display_name": "Python 3.9.7 ('fraud-detection-modeling': venv)",
   "language": "python",
   "name": "python3"
  },
  "language_info": {
   "codemirror_mode": {
    "name": "ipython",
    "version": 3
   },
   "file_extension": ".py",
   "mimetype": "text/x-python",
   "name": "python",
   "nbconvert_exporter": "python",
   "pygments_lexer": "ipython3",
   "version": "3.9.7"
  },
  "orig_nbformat": 4,
  "vscode": {
   "interpreter": {
    "hash": "a4581d4cc65befda5b4abfc85cd3a1ea5fded6fb9c139d29686dd8b14719ee92"
   }
  }
 },
 "nbformat": 4,
 "nbformat_minor": 2
}

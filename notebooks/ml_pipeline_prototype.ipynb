{
 "cells": [
  {
   "cell_type": "code",
   "execution_count": 16,
   "metadata": {},
   "outputs": [],
   "source": [
    "from random import random\n",
    "import pandas as pd\n",
    "\n",
    "from sklearn.ensemble import RandomForestClassifier\n",
    "from sklearn.model_selection import train_test_split\n",
    "from sklearn.metrics import accuracy_score\n",
    "from sklearn.metrics import f1_score"
   ]
  },
  {
   "cell_type": "code",
   "execution_count": 17,
   "metadata": {},
   "outputs": [
    {
     "name": "stdout",
     "output_type": "stream",
     "text": [
      "Loading data\n"
     ]
    }
   ],
   "source": [
    "try:\n",
    "    print(\"Loading data\")\n",
    "    df = pd.read_csv(\"../data/raw/fraudTrain.csv\")\n",
    "    df = df.drop('Unnamed: 0', axis=1)\n",
    "except FileNotFoundError:\n",
    "    print(\"CSV not found\")\n",
    "    df = pd.DataFrame()"
   ]
  },
  {
   "cell_type": "code",
   "execution_count": 18,
   "metadata": {},
   "outputs": [],
   "source": [
    "# Feature engineering\n",
    "df[\"trans_date_trans_time\"] = pd.to_datetime(df[\"trans_date_trans_time\"])\n",
    "df[\"hour\"] = df.trans_date_trans_time.dt.hour\n",
    "\n",
    "# Normal hours are between 05:00 and 21:00 and abnormal otherwise\n",
    "df[\"is_normal_hour\"] = 0\n",
    "df.loc[df.hour < 5, \"is_normal_hour\"] = 1\n",
    "df.loc[df.hour > 21, \"is_normal_hour\"] = 1"
   ]
  },
  {
   "cell_type": "code",
   "execution_count": 19,
   "metadata": {},
   "outputs": [],
   "source": [
    "features = [\"amt\", 'is_normal_hour']\n",
    "\n",
    "X = df[features]\n",
    "y = df.is_fraud\n",
    "\n",
    "X_train, X_valid, y_train, y_valid = train_test_split(X, y, \n",
    "                                                      stratify=y,\n",
    "                                                      random_state=1,\n",
    "                                                      train_size=0.8)"
   ]
  },
  {
   "cell_type": "code",
   "execution_count": 20,
   "metadata": {},
   "outputs": [
    {
     "name": "stdout",
     "output_type": "stream",
     "text": [
      "Accuracy: 0.9956002853452098\n",
      "F1 score: 0.4768454837230627\n"
     ]
    }
   ],
   "source": [
    "params = {\n",
    "        \"n_estimators\": 10,\n",
    "        \"max_depth\": 5\n",
    "    }\n",
    "    \n",
    "    \n",
    "model = RandomForestClassifier(\n",
    "        **params,\n",
    "        random_state=1\n",
    "        )\n",
    "    \n",
    "model.fit(X_train, y_train)\n",
    "\n",
    "predictions = model.predict(X_valid)\n",
    "\n",
    "acc = accuracy_score(y_valid, predictions, normalize=True)\n",
    "f1_sc = f1_score(y_valid, predictions)\n",
    "    \n",
    "print(f\"Accuracy: {acc}\")\n",
    "print(f\"F1 score: {f1_sc}\")"
   ]
  },
  {
   "cell_type": "code",
   "execution_count": null,
   "metadata": {},
   "outputs": [],
   "source": []
  }
 ],
 "metadata": {
  "kernelspec": {
   "display_name": "Python 3.9.7 ('fraud-detection-modeling': venv)",
   "language": "python",
   "name": "python3"
  },
  "language_info": {
   "codemirror_mode": {
    "name": "ipython",
    "version": 3
   },
   "file_extension": ".py",
   "mimetype": "text/x-python",
   "name": "python",
   "nbconvert_exporter": "python",
   "pygments_lexer": "ipython3",
   "version": "3.9.7"
  },
  "orig_nbformat": 4,
  "vscode": {
   "interpreter": {
    "hash": "a4581d4cc65befda5b4abfc85cd3a1ea5fded6fb9c139d29686dd8b14719ee92"
   }
  }
 },
 "nbformat": 4,
 "nbformat_minor": 2
}
